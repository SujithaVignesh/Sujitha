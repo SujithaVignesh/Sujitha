{
 "cells": [
  {
   "cell_type": "markdown",
   "id": "d8691a6d",
   "metadata": {},
   "source": [
    "1)  Make a class called Thing with no contents and print it. Then, create an object called example from this class and also print it. Are the printed values the same or different?"
   ]
  },
  {
   "cell_type": "code",
   "execution_count": 16,
   "id": "87eada86",
   "metadata": {},
   "outputs": [
    {
     "name": "stdout",
     "output_type": "stream",
     "text": [
      "<class '__main__.Thing'>\n"
     ]
    }
   ],
   "source": [
    "class Thing:\n",
    "     pass\n",
    "print(Thing)\n",
    "        "
   ]
  },
  {
   "cell_type": "code",
   "execution_count": 17,
   "id": "374aa96e",
   "metadata": {},
   "outputs": [
    {
     "name": "stdout",
     "output_type": "stream",
     "text": [
      "<__main__.Thing object at 0x000000A2BB703670>\n"
     ]
    }
   ],
   "source": [
    "example = Thing()\n",
    "print(example)"
   ]
  },
  {
   "cell_type": "markdown",
   "id": "075a3501",
   "metadata": {},
   "source": [
    "2) Create a new class called Thing2 and add the value 'abc' to the letters class attribute. Letters should be printed."
   ]
  },
  {
   "cell_type": "code",
   "execution_count": 18,
   "id": "8bcb8462",
   "metadata": {},
   "outputs": [
    {
     "name": "stdout",
     "output_type": "stream",
     "text": [
      "abc\n"
     ]
    }
   ],
   "source": [
    "class Thing2:\n",
    "    letters = 'abc'\n",
    "print(Thing2.letters)"
   ]
  },
  {
   "cell_type": "markdown",
   "id": "d38bf431",
   "metadata": {},
   "source": [
    "3) Make yet another class called, of course, Thing3. This time, assign the value 'xyz' to an instance (object) attribute called letters. Print letters. Do you need to make an object from the class to do this?  - Yes"
   ]
  },
  {
   "cell_type": "code",
   "execution_count": 19,
   "id": "9d7cecbf",
   "metadata": {},
   "outputs": [],
   "source": [
    "class Thing3:\n",
    "    def __init__(self):\n",
    "        self.letters = 'xyz'"
   ]
  },
  {
   "cell_type": "code",
   "execution_count": 15,
   "id": "24af8ae1",
   "metadata": {},
   "outputs": [
    {
     "name": "stdout",
     "output_type": "stream",
     "text": [
      "xyz\n"
     ]
    }
   ],
   "source": [
    "ss = Thing3()\n",
    "print(ss.letters)"
   ]
  },
  {
   "cell_type": "markdown",
   "id": "63d4ee01",
   "metadata": {},
   "source": [
    "4) Create an Element class with the instance attributes name, symbol, and number. Create a class object with the values 'Hydrogen,' 'H,' and 1."
   ]
  },
  {
   "cell_type": "code",
   "execution_count": 23,
   "id": "5e55c146",
   "metadata": {},
   "outputs": [
    {
     "name": "stdout",
     "output_type": "stream",
     "text": [
      "Hydrogen H 1\n"
     ]
    }
   ],
   "source": [
    "class Element:\n",
    "    def __init__(self, name, symbol, number):\n",
    "        self.name = name\n",
    "        self.symbol = symbol\n",
    "        self.number = number\n",
    "hydrogen = Element('Hydrogen', 'H', 1)\n",
    "\n",
    "print(hydrogen.name,hydrogen.symbol,hydrogen.number)"
   ]
  },
  {
   "cell_type": "markdown",
   "id": "2fd93332",
   "metadata": {},
   "source": [
    "5) Make a dictionary with these keys and values: 'name': 'Hydrogen', 'symbol': 'H', 'number': 1. Then, create an object called hydrogen from class Element using this dictionary."
   ]
  },
  {
   "cell_type": "code",
   "execution_count": 24,
   "id": "2afb1173",
   "metadata": {},
   "outputs": [],
   "source": [
    "Hydrogen_dict = {'name': 'Hydrogen', 'symbol': 'H', 'number': 1}\n",
    "Hydrogen = Element(Hydrogen_dict['name'], Hydrogen_dict['symbol'], Hydrogen_dict['number'])\n",
    "print(Hydrogen.name,Hydrogen.symbol,Hydrogen.number)"
   ]
  },
  {
   "cell_type": "markdown",
   "id": "947a6744",
   "metadata": {},
   "source": [
    "6)  the Element class, define a method called dump() that prints the values of the object’s attributes\n",
    "(name, symbol, and number). Create the hydrogen object from this new definition and \n",
    "use dump() to print its attributes."
   ]
  },
  {
   "cell_type": "code",
   "execution_count": 31,
   "id": "2dd3d672",
   "metadata": {},
   "outputs": [
    {
     "name": "stdout",
     "output_type": "stream",
     "text": [
      "name=Hydrogen, symbol=H, number=1\n"
     ]
    }
   ],
   "source": [
    "class Element:\n",
    "    def __init__(self, name, symbol, number):\n",
    "        self.name = name\n",
    "        self.symbol = symbol\n",
    "        self.number = number\n",
    "    def dump(self):\n",
    "        print('name=%s, symbol=%s, number=%s' %(self.name, self.symbol, self.number))\n",
    "hydrogen = Element('Hydrogen', 'H', 1)\n",
    "hydrogen.dump()"
   ]
  },
  {
   "cell_type": "markdown",
   "id": "036832b1",
   "metadata": {},
   "source": [
    "7) Call print(hydrogen). In the definition of Element, change the name of method dump to __str__, create a new hydrogen object, and call print(hydrogen) again."
   ]
  },
  {
   "cell_type": "code",
   "execution_count": 38,
   "id": "c221d45f",
   "metadata": {},
   "outputs": [
    {
     "name": "stdout",
     "output_type": "stream",
     "text": [
      "--str-- executed name=Hydrogen, symbol=H, number=1\n"
     ]
    }
   ],
   "source": [
    "class Element:\n",
    "    def __init__(self, name, symbol, number):\n",
    "        self.name = name\n",
    "        self.symbol = symbol\n",
    "        self.number = number\n",
    "    def __str__(self):\n",
    "        return ('--str-- executed name=%s, symbol=%s, number=%s' %(self.name, self.symbol, self.number))\n",
    "\n",
    "hydrogen = Element('Hydrogen', 'H', 1)\n",
    "\n",
    "\n",
    "print(hydrogen) ## --str is executed"
   ]
  },
  {
   "cell_type": "markdown",
   "id": "63b0aa3f",
   "metadata": {},
   "source": [
    "8) Modify Element to make the attributes name, symbol, and number private. Define a getter property for each to return its value."
   ]
  },
  {
   "cell_type": "code",
   "execution_count": 67,
   "id": "0e14ee3d",
   "metadata": {},
   "outputs": [
    {
     "data": {
      "text/plain": [
       "'Hydrogen'"
      ]
     },
     "execution_count": 67,
     "metadata": {},
     "output_type": "execute_result"
    }
   ],
   "source": [
    "class Element:\n",
    "    def __init__(self, name, symbol, number):\n",
    "        self.__name = name\n",
    "        self.__symbol = symbol\n",
    "        self.__number = number\n",
    "    @property    # To INdicate that the \n",
    "    def name(self):\n",
    "        return self.__name\n",
    "    @property\n",
    "    def symbol(self):\n",
    "        return self.__symbol\n",
    "  ## Property not set for this\n",
    "    def number(self):\n",
    "        return self.__number\n",
    "hydrogen = Element('Hydrogen', 'H', 1)\n",
    "hydrogen.name"
   ]
  },
  {
   "cell_type": "code",
   "execution_count": 45,
   "id": "a54a9c1e",
   "metadata": {},
   "outputs": [
    {
     "data": {
      "text/plain": [
       "'H'"
      ]
     },
     "execution_count": 45,
     "metadata": {},
     "output_type": "execute_result"
    }
   ],
   "source": [
    "hydrogen.symbol"
   ]
  },
  {
   "cell_type": "code",
   "execution_count": 44,
   "id": "9c6ec943",
   "metadata": {},
   "outputs": [
    {
     "data": {
      "text/plain": [
       "<bound method Element.number of <__main__.Element object at 0x000000A2BB703610>>"
      ]
     },
     "execution_count": 44,
     "metadata": {},
     "output_type": "execute_result"
    }
   ],
   "source": [
    "hydrogen.number"
   ]
  },
  {
   "cell_type": "markdown",
   "id": "73e6fe1e",
   "metadata": {},
   "source": [
    "9) Define three classes: Bear, Rabbit, and Octothorpe. For each, define only one method: eats(). \n",
    "        This should return 'berries' (Bear), 'clover' (Rabbit), or\n",
    "    'campers' (Octothorpe). Create one object from each and print what it eats."
   ]
  },
  {
   "cell_type": "code",
   "execution_count": 56,
   "id": "1a3f4525",
   "metadata": {},
   "outputs": [
    {
     "name": "stdout",
     "output_type": "stream",
     "text": [
      "berries clover campers\n"
     ]
    }
   ],
   "source": [
    "class Bear:\n",
    "    def eats(p1):\n",
    "        return 'berries'\n",
    "    \n",
    "class Rabbit:\n",
    "    def eats(p2):\n",
    "        return 'clover'\n",
    "\n",
    "class Octothorpe:\n",
    "    def eats(p3):\n",
    "        return 'campers'\n",
    "    \n",
    "b = Bear()\n",
    "r = Rabbit()\n",
    "o = Octothorpe()\n",
    "\n",
    "print(b.eats(),r.eats(),o.eats())"
   ]
  },
  {
   "cell_type": "markdown",
   "id": "37d871b1",
   "metadata": {},
   "source": [
    "10) Define these classes: Laser, Claw, and SmartPhone. Each has only one method: does(). This returns 'disintegrate' (Laser), 'crush' (Claw), or 'ring' (SmartPhone). Then, define the class Robot that has one instance (object) of each of these. Define a does() method for the Robot that prints what its component objects do."
   ]
  },
  {
   "cell_type": "code",
   "execution_count": 64,
   "id": "180afea3",
   "metadata": {},
   "outputs": [
    {
     "name": "stdout",
     "output_type": "stream",
     "text": [
      "laser - disintegrate Claw - crush Smartphone - ring\n"
     ]
    }
   ],
   "source": [
    "class Laser:\n",
    "    def does(ss):\n",
    "        return 'disintegrate'\n",
    "\n",
    "class Claw:\n",
    "    def does(ss):\n",
    "        return 'crush'\n",
    "    \n",
    "class SmartPhone:\n",
    "    def does(ss):\n",
    "        return 'ring'\n",
    "    \n",
    "class Robot:\n",
    "    def __init__(self):\n",
    "        self.laser = Laser()\n",
    "        self.claw = Claw()\n",
    "        self.smartphone = SmartPhone()\n",
    "        \n",
    "    def does(self):\n",
    "        return 'laser - %s Claw - %s Smartphone - %s' % (self.laser.does(),self.claw.does(),self.smartphone.does() )\n",
    "    \n",
    "ss = Robot()\n",
    "print( ss.does())"
   ]
  },
  {
   "cell_type": "code",
   "execution_count": 69,
   "id": "9327c532",
   "metadata": {},
   "outputs": [
    {
     "name": "stdout",
     "output_type": "stream",
     "text": [
      " Volume in drive C has no label.\n",
      " Volume Serial Number is 380D-E781\n",
      "\n",
      " Directory of C:\\Users\\user\n",
      "\n",
      "17-06-2022  07:46 PM    <DIR>          .\n",
      "17-06-2022  07:46 PM    <DIR>          ..\n",
      "17-06-2022  07:45 PM    <DIR>          .ipynb_checkpoints\n",
      "11-06-2022  07:18 AM    <DIR>          .ipython\n",
      "16-06-2022  10:51 PM    <DIR>          .jupyter\n",
      "10-06-2022  10:09 PM    <DIR>          anaconda3\n",
      "17-06-2022  06:48 PM    <DIR>          Contacts\n",
      "17-06-2022  06:48 PM    <DIR>          Desktop\n",
      "17-06-2022  06:49 PM    <DIR>          Documents\n",
      "17-06-2022  06:49 PM    <DIR>          Downloads\n",
      "17-06-2022  06:48 PM    <DIR>          Favorites\n",
      "17-06-2022  07:45 PM            10,565 G.ipynb\n",
      "10-06-2022  06:34 PM    <DIR>          Intel\n",
      "17-06-2022  06:49 PM    <DIR>          Links\n",
      "17-06-2022  06:48 PM    <DIR>          Music\n",
      "17-06-2022  06:48 PM    <DIR>          Pictures\n",
      "17-06-2022  06:49 PM    <DIR>          Saved Games\n",
      "17-06-2022  06:49 PM    <DIR>          Searches\n",
      "11-06-2022  07:20 AM               589 Untitled.ipynb\n",
      "16-06-2022  10:55 PM                72 Untitled1.ipynb\n",
      "17-06-2022  07:46 PM            10,565 Untitled2.ipynb\n",
      "17-06-2022  07:42 PM            10,565 Untitled2-Copy1.ipynb\n",
      "17-06-2022  07:04 PM                72 Untitled3.ipynb\n",
      "17-06-2022  06:48 PM    <DIR>          Videos\n",
      "               6 File(s)         32,428 bytes\n",
      "              18 Dir(s)  66,214,223,872 bytes free\n"
     ]
    }
   ],
   "source": [
    "%ls\n"
   ]
  },
  {
   "cell_type": "code",
   "execution_count": null,
   "id": "3365353e",
   "metadata": {},
   "outputs": [],
   "source": []
  }
 ],
 "metadata": {
  "kernelspec": {
   "display_name": "Python 3 (ipykernel)",
   "language": "python",
   "name": "python3"
  },
  "language_info": {
   "codemirror_mode": {
    "name": "ipython",
    "version": 3
   },
   "file_extension": ".py",
   "mimetype": "text/x-python",
   "name": "python",
   "nbconvert_exporter": "python",
   "pygments_lexer": "ipython3",
   "version": "3.9.12"
  }
 },
 "nbformat": 4,
 "nbformat_minor": 5
}
