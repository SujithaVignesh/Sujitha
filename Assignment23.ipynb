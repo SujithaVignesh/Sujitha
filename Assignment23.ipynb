{
 "cells": [
  {
   "cell_type": "markdown",
   "id": "206f12ac",
   "metadata": {},
   "source": [
    "1. What is the result of the code, and why?\n",
    "Ans : If function value is already declared then there is no need to pass the values when calling the Fn. If the no of param is less than actual param , then it assign the values in order - from a then b then c . if we pass 3rd parm it will assign to c.\n",
    "1 is assigned to a as it is first param , 2 will overwrite b value as user passes second arg value , c value is not passed when fn call happen so it will not over written."
   ]
  },
  {
   "cell_type": "code",
   "execution_count": 4,
   "id": "a9d364d3",
   "metadata": {},
   "outputs": [
    {
     "name": "stdout",
     "output_type": "stream",
     "text": [
      "1 2 8\n"
     ]
    }
   ],
   "source": [
    "def func(a, b=6, c=8):\n",
    "    print(a, b, c)\n",
    "\n",
    "func(1, 2)\n"
   ]
  },
  {
   "cell_type": "code",
   "execution_count": null,
   "id": "47c45f53",
   "metadata": {},
   "outputs": [],
   "source": [
    "2. What is the result of this code, and why?\n",
    "Ans : C and b Variable name is mentioned so the Order does not matter here."
   ]
  },
  {
   "cell_type": "code",
   "execution_count": 2,
   "id": "c73636f2",
   "metadata": {},
   "outputs": [
    {
     "name": "stdout",
     "output_type": "stream",
     "text": [
      "1 2 3\n"
     ]
    }
   ],
   "source": [
    "def func(a, b, c=5):\n",
    "    print(a, b, c)\n",
    "func(1, c=3, b=2)\n"
   ]
  },
  {
   "cell_type": "markdown",
   "id": "407bc644",
   "metadata": {},
   "source": [
    "3. How about this code: what is its result, and why?\n",
    "Ans : *args is used to get the Tuple Values , first one value is assigned to a , rest all will be converted to Tuple."
   ]
  },
  {
   "cell_type": "code",
   "execution_count": 5,
   "id": "fb8957f4",
   "metadata": {},
   "outputs": [
    {
     "name": "stdout",
     "output_type": "stream",
     "text": [
      "1 (2, 3)\n"
     ]
    }
   ],
   "source": [
    "def func(a, *pargs):\n",
    "    print(a, pargs)\n",
    "func(1, 2, 3)\n"
   ]
  },
  {
   "cell_type": "markdown",
   "id": "c91e8ad9",
   "metadata": {},
   "source": [
    "What does this code print, and why?\n",
    "Ans : **Kwargs is used to get the Dict Values , first one value is assigned to a , rest all will be converted to Dictionary {Key and Value Pair }."
   ]
  },
  {
   "cell_type": "code",
   "execution_count": 6,
   "id": "a10e7057",
   "metadata": {},
   "outputs": [
    {
     "name": "stdout",
     "output_type": "stream",
     "text": [
      "1 {'c': 3, 'b': 2}\n"
     ]
    }
   ],
   "source": [
    "def func(a, **kargs):\n",
    "    print(a, kargs)\n",
    "func(a=1, c=3, b=2)\n"
   ]
  },
  {
   "cell_type": "markdown",
   "id": "7540fc73",
   "metadata": {},
   "source": [
    "5. What gets printed by this, and explain?\n",
    "Ans : a = 1 , second and third values are passed in tuple format , last one not passed so it will not get overwritten "
   ]
  },
  {
   "cell_type": "code",
   "execution_count": 14,
   "id": "1b8c7732",
   "metadata": {},
   "outputs": [
    {
     "name": "stdout",
     "output_type": "stream",
     "text": [
      "1 5 6 5\n"
     ]
    }
   ],
   "source": [
    "def func(a, b, c=8, d=5): \n",
    "    print(a, b, c, d)\n",
    "\n",
    "func(1, *(5, 6))\n"
   ]
  },
  {
   "cell_type": "code",
   "execution_count": 18,
   "id": "983b4a74",
   "metadata": {},
   "outputs": [
    {
     "name": "stdout",
     "output_type": "stream",
     "text": [
      "4 5 6\n"
     ]
    }
   ],
   "source": [
    "## Test Example \n",
    "def func(a, b, c): \n",
    "    print(a, b, c)\n",
    "\n",
    "func( *(4,5,6))\n"
   ]
  },
  {
   "cell_type": "markdown",
   "id": "096b9339",
   "metadata": {},
   "source": [
    "6. what is the result of this, and explain?\n",
    "And : First Variable is int so overwritten and prints 1 , Second variable is string but we passed list hence not overwritten and prints locally assigned value , Third variable dict is locally assigned inside fn."
   ]
  },
  {
   "cell_type": "code",
   "execution_count": 19,
   "id": "d92efaf9",
   "metadata": {},
   "outputs": [
    {
     "data": {
      "text/plain": [
       "(1, ['x'], {'a': 'y'})"
      ]
     },
     "execution_count": 19,
     "metadata": {},
     "output_type": "execute_result"
    }
   ],
   "source": [
    "def func(a, b, c): \n",
    "    a = 2; b[0] = 'x'; c['a'] = 'y'\n",
    "\n",
    "l=1; m=[1]; n={'a':0}\n",
    "func(l, m, n)\n",
    "l, m, n\n"
   ]
  }
 ],
 "metadata": {
  "kernelspec": {
   "display_name": "Python 3 (ipykernel)",
   "language": "python",
   "name": "python3"
  },
  "language_info": {
   "codemirror_mode": {
    "name": "ipython",
    "version": 3
   },
   "file_extension": ".py",
   "mimetype": "text/x-python",
   "name": "python",
   "nbconvert_exporter": "python",
   "pygments_lexer": "ipython3",
   "version": "3.9.12"
  }
 },
 "nbformat": 4,
 "nbformat_minor": 5
}
