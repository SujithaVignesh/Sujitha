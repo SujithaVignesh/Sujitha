{
 "cells": [
  {
   "cell_type": "markdown",
   "id": "31ce23ac",
   "metadata": {},
   "source": [
    "1. What is the result of the code, and explain? \n",
    "Ans : X Value declared outside function will be accessible throughout the current code / main class"
   ]
  },
  {
   "cell_type": "code",
   "execution_count": 5,
   "id": "1971c8ee",
   "metadata": {},
   "outputs": [
    {
     "name": "stdout",
     "output_type": "stream",
     "text": [
      "iNeuron\n"
     ]
    }
   ],
   "source": [
    "X = 'iNeuron'\n",
    "def func():\n",
    "    print(X)\n",
    "func()"
   ]
  },
  {
   "cell_type": "markdown",
   "id": "b46c7d0f",
   "metadata": {},
   "source": [
    "2. What is the result of the code, and explain? \n",
    "Answer : NI! will not display because it is local variable as it is assigned inside Fn"
   ]
  },
  {
   "cell_type": "code",
   "execution_count": 8,
   "id": "e0710f7e",
   "metadata": {},
   "outputs": [],
   "source": [
    "X = 'iNeuron'\n",
    "def func():\n",
    "    X = 'NI!'\n",
    "func()\n",
    "print(X)\n"
   ]
  },
  {
   "cell_type": "markdown",
   "id": "314d2732",
   "metadata": {},
   "source": [
    "3. What does this code print, and why?\n",
    "Ans : Variable delared inside fn as NI , Once we print the same variable outside fn then it will prints the value which is recently declared and placed outside the fn."
   ]
  },
  {
   "cell_type": "code",
   "execution_count": 9,
   "id": "e76befbf",
   "metadata": {},
   "outputs": [
    {
     "name": "stdout",
     "output_type": "stream",
     "text": [
      "NI\n",
      "iNeuron\n"
     ]
    }
   ],
   "source": [
    "X = 'iNeuron'\n",
    "def func():\n",
    "    X = 'NI'\n",
    "    print(X)\n",
    "\n",
    "\n",
    "func()\n",
    "print(X)\n"
   ]
  },
  {
   "cell_type": "markdown",
   "id": "64e7e723",
   "metadata": {},
   "source": [
    "4. What output does this code produce? Why?\n",
    "Ans : As Global Keyword is used inside / Outside functions it will act as Global Variable throughout the code , Hence Prints the global Value."
   ]
  },
  {
   "cell_type": "code",
   "execution_count": 10,
   "id": "0249d019",
   "metadata": {},
   "outputs": [
    {
     "name": "stdout",
     "output_type": "stream",
     "text": [
      "NI\n"
     ]
    }
   ],
   "source": [
    "X = 'iNeuron'\n",
    "def func():\n",
    "    global X\n",
    "    X = 'NI'\n",
    "\n",
    "func()\n",
    "print(X)\n"
   ]
  },
  {
   "cell_type": "markdown",
   "id": "d773dfd7",
   "metadata": {},
   "source": [
    "5. What about this code—what’s the output, and why?\n",
    "Answer : Even the name of the Fn mentioed as nested , it has not inherited any properties from any parent fn , So nested fun will print the X value which is declared recently in main class."
   ]
  },
  {
   "cell_type": "code",
   "execution_count": 11,
   "id": "302d3621",
   "metadata": {},
   "outputs": [
    {
     "name": "stdout",
     "output_type": "stream",
     "text": [
      "iNeuron\n"
     ]
    },
    {
     "data": {
      "text/plain": [
       "'iNeuron'"
      ]
     },
     "execution_count": 11,
     "metadata": {},
     "output_type": "execute_result"
    }
   ],
   "source": [
    "X = 'iNeuron'\n",
    "\n",
    "def func():\n",
    "    X = 'NI'\n",
    "\n",
    "def nested():\n",
    "    print(X)\n",
    "\n",
    "nested()\n",
    "func()\n",
    "X\n"
   ]
  },
  {
   "cell_type": "markdown",
   "id": "59944367",
   "metadata": {},
   "source": [
    "6. How about this code: what is its output in Python 3, and explain?\n",
    "Ans : nonlocal keyword is used so the scope of local variable is not considered here."
   ]
  },
  {
   "cell_type": "code",
   "execution_count": 20,
   "id": "13e44e29",
   "metadata": {},
   "outputs": [
    {
     "name": "stdout",
     "output_type": "stream",
     "text": [
      "Spam\n",
      "Spam\n"
     ]
    }
   ],
   "source": [
    "X = 'Spam'\n",
    "def func():\n",
    "    X = 'NI'\n",
    "\n",
    "    def nested():\n",
    "         nonlocal X\n",
    "       \n",
    "\n",
    "nested()\n",
    "print(X)\n",
    "func()\n"
   ]
  },
  {
   "cell_type": "code",
   "execution_count": null,
   "id": "64259029",
   "metadata": {},
   "outputs": [],
   "source": []
  }
 ],
 "metadata": {
  "kernelspec": {
   "display_name": "Python 3 (ipykernel)",
   "language": "python",
   "name": "python3"
  },
  "language_info": {
   "codemirror_mode": {
    "name": "ipython",
    "version": 3
   },
   "file_extension": ".py",
   "mimetype": "text/x-python",
   "name": "python",
   "nbconvert_exporter": "python",
   "pygments_lexer": "ipython3",
   "version": "3.9.12"
  }
 },
 "nbformat": 4,
 "nbformat_minor": 5
}
